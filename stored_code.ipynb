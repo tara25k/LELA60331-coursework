{
 "cells": [
  {
   "cell_type": "code",
   "execution_count": null,
   "metadata": {},
   "outputs": [],
   "source": [
    "# CODE FOR A MULTICLASS (3 CLASSES) CLASSIFIER\n",
    "import numpy as np\n",
    "import matplotlib.pyplot as plt\n",
    "\n",
    "# define variables\n",
    "np.random.seed(10)\n",
    "n_iters = 1000\n",
    "num_features = 5000\n",
    "num_classes = 3\n",
    "num_samples = len(y)\n",
    "weights = np.random.rand(num_classes,num_features)\n",
    "lr=0.2\n",
    "logistic_loss=[]\n",
    "z=np.zeros((num_samples,num_classes))\n",
    "q=np.zeros((num_samples,num_classes))\n",
    "\n",
    "\n",
    "for i in range(n_iters):\n",
    "    if i % 10 == 0: # for logging progress\n",
    "        print(i)\n",
    "    \n",
    "    \n",
    "    z= M_train.dot(weights.T)\n",
    "    z_sum=np.exp(z).sum(axis=1)\n",
    "    q=np.array([list(np.exp(z_i)/z_sum[i]) for i, z_i in enumerate(z)])\n",
    "\n",
    "    loss=np.mean(-np.log2((np.sum((y*q),axis=1))))\n",
    "\n",
    "    logistic_loss.append(loss)\n",
    "\n",
    "    dw=M_train.T.dot((q-y))/num_samples\n",
    "    weights=(weights - (dw.T*lr))\n",
    "\n",
    "plt.plot(range(1,n_iters),logistic_loss[1:])\n",
    "plt.xlabel(\"number of epochs\")\n",
    "plt.ylabel(\"loss\")"
   ]
  }
 ],
 "metadata": {
  "language_info": {
   "name": "python"
  }
 },
 "nbformat": 4,
 "nbformat_minor": 2
}
