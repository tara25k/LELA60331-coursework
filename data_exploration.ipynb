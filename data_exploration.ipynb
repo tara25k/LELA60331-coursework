{
 "cells": [
  {
   "cell_type": "code",
   "execution_count": 10,
   "metadata": {},
   "outputs": [],
   "source": [
    "# load in data\n",
    "reviews=[]\n",
    "sentiment_ratings=[]\n",
    "product_types=[]\n",
    "helpfulness_ratings=[]\n",
    "\n",
    "with open(\"Compiled_Reviews.txt\") as f:\n",
    "   for line in f.readlines()[1:]:\n",
    "        fields = line.rstrip().split('\\t')\n",
    "        reviews.append(fields[0])\n",
    "        sentiment_ratings.append(fields[1])\n",
    "        product_types.append(fields[2])\n",
    "        helpfulness_ratings.append(fields[3])\n"
   ]
  },
  {
   "cell_type": "code",
   "execution_count": 11,
   "metadata": {},
   "outputs": [
    {
     "name": "stdout",
     "output_type": "stream",
     "text": [
      "there are 2000 kitchen and housewares items\n",
      "there are 332 musical instruments items\n",
      "there are 1999 camera and photo items\n",
      "there are 1292 jewelry and watches items\n",
      "there are 736 automotive items\n",
      "there are 2000 toys and  games items\n",
      "there are 1493 beauty items\n",
      "there are 2000 sports and  outdoors items\n",
      "there are 2000 apparel items\n",
      "there are 2000 books items\n",
      "there are 1970 magazines items\n",
      "there are 1327 outdoor living items\n",
      "there are 2000 electronics items\n",
      "there are 1352 grocery items\n",
      "there are 431 office products items\n",
      "there are 1915 software items\n",
      "there are 1208 gourmet food items\n",
      "there are 1900 baby items\n",
      "there are 112 tools and hardware items\n",
      "there are 1023 cell phones and service items\n",
      "there are 2000 music items\n",
      "there are 2000 dvd items\n",
      "there are 1458 computer and  video games items\n",
      "there are 2000 health and personal care items\n"
     ]
    }
   ],
   "source": [
    "# exploring the product type data\n",
    "product_type_items = list(set(product_types))\n",
    "\n",
    "for item in product_type_items:\n",
    "    number_of_items = sum([1 for x in product_types if x == item])\n",
    "    print(f'there are {number_of_items} {item} items')"
   ]
  },
  {
   "cell_type": "code",
   "execution_count": 12,
   "metadata": {},
   "outputs": [
    {
     "name": "stdout",
     "output_type": "stream",
     "text": [
      "there are 15576 negative ratings\n",
      "there are 20972 positive ratings\n"
     ]
    }
   ],
   "source": [
    "# exploring the sentiment values\n",
    "sentiment_items = list(set(sentiment_ratings))\n",
    "\n",
    "for item in sentiment_items:\n",
    "    number_of_items = sum([1 for x in sentiment_ratings if x == item])\n",
    "    print(f'there are {number_of_items} {item} ratings')"
   ]
  },
  {
   "cell_type": "code",
   "execution_count": 13,
   "metadata": {},
   "outputs": [
    {
     "name": "stdout",
     "output_type": "stream",
     "text": [
      "there are 10321 neutral ratings\n",
      "there are 5876 unhelpful ratings\n",
      "there are 20351 helpful ratings\n"
     ]
    }
   ],
   "source": [
    "# exploring the helpfulness values\n",
    "helpfulness_items = list(set(helpfulness_ratings))\n",
    "\n",
    "for item in helpfulness_items:\n",
    "    number_of_items = sum([1 for x in helpfulness_ratings if x == item])\n",
    "    print(f'there are {number_of_items} {item} ratings')"
   ]
  },
  {
   "cell_type": "code",
   "execution_count": null,
   "metadata": {},
   "outputs": [
    {
     "name": "stdout",
     "output_type": "stream",
     "text": [
      "60.00381460995613% reviews were positive and helpful\n",
      "7.9296204463093645% reviews were positive and unhelpful\n",
      "32.066564943734505% reviews were positive and neutral\n",
      "\n",
      "49.865177195685675% reviews were negative and helpful\n",
      "27.04802259887006% reviews were negative and unhelpful\n",
      "23.086800205444273% reviews were positive and neutral\n"
     ]
    }
   ],
   "source": [
    "# exploring relations between sentiment and helpfulness\n",
    "num_items = len(reviews)\n",
    "\n",
    "positive_and_helpful = 0\n",
    "positive_and_unhelpful = 0\n",
    "negative_and_helpful = 0\n",
    "negative_and_unhelpful = 0\n",
    "\n",
    "for i in range(num_items):\n",
    "    if sentiment_ratings[i] == 'positive' and helpfulness_ratings[i] == 'helpful':\n",
    "        positive_and_helpful += 1\n",
    "    elif sentiment_ratings[i] == 'positive' and helpfulness_ratings[i] == 'unhelpful':\n",
    "        positive_and_unhelpful +=1\n",
    "    elif sentiment_ratings[i] == 'negative' and helpfulness_ratings[i] == 'helpful':\n",
    "        negative_and_helpful +=1\n",
    "    elif sentiment_ratings[i] == 'negative' and helpfulness_ratings[i] == 'unhelpful':\n",
    "        negative_and_unhelpful +=1\n",
    "\n",
    "total_pos = sum([1 for x in sentiment_ratings if x == \"positive\"])\n",
    "total_neg = sum([1 for x in sentiment_ratings if x == \"negative\"])\n",
    "\n",
    "print(f'{(positive_and_helpful/total_pos)*100}% reviews were positive and helpful')\n",
    "print(f'{(positive_and_unhelpful/total_pos)*100}% reviews were positive and unhelpful')\n",
    "print(f'{((total_pos - (positive_and_helpful + positive_and_unhelpful))/total_pos)*100}% reviews were positive and neutral\\n')\n",
    "print(f'{(negative_and_helpful/total_neg)*100}% reviews were negative and helpful')\n",
    "print(f'{(negative_and_unhelpful/total_neg)*100}% reviews were negative and unhelpful')\n",
    "print(f'{((total_neg - (negative_and_helpful + negative_and_unhelpful))/total_neg)*100}% reviews were positive and neutral')\n"
   ]
  }
 ],
 "metadata": {
  "kernelspec": {
   "display_name": "Python 3",
   "language": "python",
   "name": "python3"
  },
  "language_info": {
   "codemirror_mode": {
    "name": "ipython",
    "version": 3
   },
   "file_extension": ".py",
   "mimetype": "text/x-python",
   "name": "python",
   "nbconvert_exporter": "python",
   "pygments_lexer": "ipython3",
   "version": "3.9.6"
  }
 },
 "nbformat": 4,
 "nbformat_minor": 2
}
