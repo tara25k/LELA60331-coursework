{
 "cells": [
  {
   "cell_type": "code",
   "execution_count": 45,
   "metadata": {},
   "outputs": [],
   "source": [
    "# IMPORTS AND LOADING DATA\n",
    "import numpy as np\n",
    "import re\n",
    "from collections import Counter\n",
    "import matplotlib.pyplot as plt\n",
    "\n",
    "# load in data\n",
    "reviews=[]\n",
    "sentiment_ratings=[]\n",
    "product_types=[]\n",
    "helpfulness_ratings=[]\n",
    "\n",
    "with open(\"Compiled_Reviews.txt\") as f:\n",
    "   for line in f.readlines()[1:]:\n",
    "        fields = line.rstrip().split('\\t')\n",
    "        reviews.append(fields[0])\n",
    "        sentiment_ratings.append(fields[1])\n",
    "        product_types.append(fields[2])\n",
    "        helpfulness_ratings.append(fields[3])\n"
   ]
  },
  {
   "cell_type": "code",
   "execution_count": 46,
   "metadata": {},
   "outputs": [],
   "source": [
    "# LOAD IN STOPWORDS\n",
    "f = open(\"data/stopwords.txt\", \"r\")\n",
    "stopwords = []\n",
    "for line in f:\n",
    "    stopwords.append(line.strip())\n",
    "f.close()\n",
    "\n",
    "punct = ['#', '\"', '\"\"', '%', '$', '&', ')', '(', '+', '*', '-'] "
   ]
  },
  {
   "cell_type": "code",
   "execution_count": 47,
   "metadata": {},
   "outputs": [],
   "source": [
    "# GET VOCABULARY - 5000 MOST COMMON WORDS\n",
    "\n",
    "# tokenise reviews\n",
    "token_def = re.compile(\"[^ \\.?!:,)(\\\"]+\")\n",
    "tokenized_sents = [token_def.findall(txt) for txt in reviews]\n",
    "tokens=[]\n",
    "for s in tokenized_sents:\n",
    "\n",
    "    filtered_tokens = [t.lower() for t in s if t.lower() not in stopwords and t not in punct]\n",
    "    \n",
    "    tokens.extend(filtered_tokens)\n",
    "    tokens.extend([f\"{filtered_tokens[i]}_{filtered_tokens[i+1]}\" for i in range(len(filtered_tokens) - 1)]) \n",
    "\n",
    "# use a counter to count the tokens\n",
    "counts=Counter(tokens)\n",
    "# sort the tokens\n",
    "so=sorted(counts.items(), key=lambda item: item[1], reverse=True)\n",
    "so=list(zip(*so))[0]\n",
    "\n",
    "# get 5000 most common into vocabulary\n",
    "type_list=so[0:5000]\n",
    "vocab_list = type_list\n"
   ]
  },
  {
   "cell_type": "code",
   "execution_count": null,
   "metadata": {},
   "outputs": [],
   "source": [
    "# CREATE AN EMBEDDING MATRIX\n",
    "# M = np.zeros((len(reviews), len(vocab_list)))\n",
    "# print(len(reviews))\n",
    "# for i, rev in enumerate(reviews):\n",
    "#     if i%1000 == 0:\n",
    "#          print(i)\n",
    "    \n",
    "#     tokens = [t for t in token_def.findall(rev)]\n",
    "#     bigrams = [f\"{tokens[j]}_{tokens[j+1]}\" for j in range(len(tokens) - 1)]\n",
    "#     all_tokens = tokens + bigrams \n",
    "\n",
    "#     # iterate over vocab\n",
    "#     for j, vocab_token in enumerate(vocab_list):\n",
    "#         # if the current word j occurs in the current review i then set the matrix element at i,j to be one. Otherwise leave as zero.\n",
    "#         if vocab_token in all_tokens:\n",
    "              \n",
    "#               # FOR BAG OF WORDS\n",
    "#               M[i, j] += 1\n",
    "\n",
    "M = np.load(\"M.npy\")"
   ]
  },
  {
   "cell_type": "code",
   "execution_count": 50,
   "metadata": {},
   "outputs": [],
   "source": [
    "# GET TRAINING AND TESTING DATA\n",
    "np.random.seed(10)\n",
    "train_ints=np.random.choice(len(reviews),int(len(reviews)*0.8),replace=False)\n",
    "test_ints=list(set(range(0,len(reviews))) - set(train_ints))\n",
    "M_train = M[train_ints,]\n",
    "M_test = M[test_ints,]\n",
    "\n",
    "# for labels, use a vector representation\n",
    "labels_train = [sentiment_ratings[i] for i in train_ints]\n",
    "labels_test = [sentiment_ratings[i] for i in test_ints]\n"
   ]
  },
  {
   "cell_type": "code",
   "execution_count": 59,
   "metadata": {},
   "outputs": [],
   "source": [
    "# DEFINING VARIABLES\n",
    "\n",
    "# FOR BATCH TRAINING\n",
    "k = 443\n",
    "# Create array of all indices in training data\n",
    "a=np.arange(M_train.shape[0])\n",
    "# randomly shuffle indices in place (in case of classes being unequally distributed across positions in data)\n",
    "np.random.shuffle(a)\n",
    "# Split indices into k equal batches\n",
    "batches=np.array(np.split(a, k))\n",
    "\n",
    "# other essential variables \n",
    "y=[int(l == \"positive\") for l in labels_train]\n",
    "y = np.array(y)\n",
    "num_features=len(vocab_list)\n",
    "weights = np.random.rand(num_features)\n",
    "bias=np.random.rand(1)\n",
    "n_iters = 6000\n",
    "lr=0.225\n",
    "logistic_loss=[]\n",
    "num_samples=len(y)\n"
   ]
  },
  {
   "cell_type": "code",
   "execution_count": 60,
   "metadata": {},
   "outputs": [
    {
     "name": "stdout",
     "output_type": "stream",
     "text": [
      "0\n",
      "100\n",
      "200\n",
      "300\n",
      "400\n",
      "500\n",
      "600\n",
      "700\n",
      "800\n",
      "900\n",
      "1000\n",
      "1100\n",
      "1200\n",
      "1300\n",
      "1400\n",
      "1500\n",
      "1600\n",
      "1700\n",
      "1800\n",
      "1900\n",
      "2000\n",
      "2100\n",
      "2200\n",
      "2300\n",
      "2400\n",
      "2500\n",
      "2600\n",
      "2700\n",
      "2800\n",
      "2900\n",
      "3000\n",
      "3100\n",
      "3200\n",
      "3300\n",
      "3400\n",
      "3500\n",
      "3600\n",
      "3700\n",
      "3800\n",
      "3900\n",
      "4000\n",
      "4100\n",
      "4200\n",
      "4300\n",
      "4400\n",
      "4500\n",
      "4600\n",
      "4700\n",
      "4800\n",
      "4900\n",
      "5000\n",
      "5100\n",
      "5200\n",
      "5300\n",
      "5400\n",
      "5500\n",
      "5600\n",
      "5700\n",
      "5800\n",
      "5900\n"
     ]
    },
    {
     "data": {
      "text/plain": [
       "Text(0, 0.5, 'loss')"
      ]
     },
     "execution_count": 60,
     "metadata": {},
     "output_type": "execute_result"
    },
    {
     "data": {
      "image/png": "[encoded data removed]",
      "text/plain": [
       "<Figure size 640x480 with 1 Axes>"
      ]
     },
     "metadata": {},
     "output_type": "display_data"
    }
   ],
   "source": [
    "# RUN MODEL\n",
    "for i in range(n_iters):\n",
    "    if i % 100 == 0: # for logging progress\n",
    "        print(i)\n",
    "    \n",
    "    loss = 0.0\n",
    "    for j in range(len(batches)):\n",
    "        this_batch_M_train = M_train[batches[j]]\n",
    "        this_batch_y_train = y[batches[j]]\n",
    "        z = this_batch_M_train.dot(weights.T) + bias\n",
    "        q = 1/(1+np.exp(-z))\n",
    "\n",
    "        # calculate loss\n",
    "        eps=0.00001\n",
    "        loss = -sum((this_batch_y_train*np.log2(q+eps)+(np.ones(len(this_batch_y_train))-this_batch_y_train)*np.log2(np.ones(len(this_batch_y_train))-q+eps)))\n",
    "        \n",
    "\n",
    "        # calculate gradients\n",
    "        dw = ((q-this_batch_y_train).dot(this_batch_M_train) * (1/len(this_batch_y_train))) + (0.001*weights) \n",
    "        # dw = ((q-this_batch_y_train).dot(this_batch_M_train) * (1/len(this_batch_y_train)))\n",
    "        db = sum((q-this_batch_y_train))/len(this_batch_y_train) \n",
    "\n",
    "        # update weights\n",
    "        weights = weights - lr*dw \n",
    "        bias = bias - lr*db\n",
    "    logistic_loss.append(loss)\n",
    "    \n",
    "\n",
    "plt.plot(range(1,n_iters),logistic_loss[1:])\n",
    "plt.xlabel(\"number of epochs\")\n",
    "plt.ylabel(\"loss\")\n",
    "#loss = sum(-(np.ones(len(y))*np.log2(q)+(np.ones(len(y))-y)*np.log2(np.ones(len(y))-q)))"
   ]
  },
  {
   "cell_type": "code",
   "execution_count": 61,
   "metadata": {},
   "outputs": [
    {
     "name": "stdout",
     "output_type": "stream",
     "text": [
      "accuracy: 0.8347469220246237\n",
      "precision: 0.8235945108455068\n",
      "recall: 0.9005324298160697\n"
     ]
    }
   ],
   "source": [
    "# EVALUATE ON TEST SET\n",
    "z = M_test.dot(weights)+bias # weighted inputs\n",
    "q = 1/(1+np.exp(-z)) # sigmoided input\n",
    "\n",
    "y_test_pred = [int(prob > 0.5) for prob in q] \n",
    "y_test=[int(l == \"positive\") for l in labels_test]\n",
    "\n",
    "# EVALUATION METRICS\n",
    "# accuracy\n",
    "acc_test=[int(yp == y_test[s]) for s,yp in enumerate(y_test_pred)]\n",
    "print(f'accuracy: {sum(acc_test)/len(acc_test)}')\n",
    "\n",
    "# precision and recall\n",
    "labels_test_pred=[\"positive\" if s == 1 else \"negative\" for s in y_test_pred]\n",
    "true_positives=sum([int(yp == \"positive\" and labels_test[s] == \"positive\") for s,yp in enumerate(labels_test_pred)])\n",
    "false_negatives=sum([int(yp == \"negative\" and labels_test[s] == \"positive\") for s,yp in enumerate(labels_test_pred)])\n",
    "false_positives=sum([int(yp == \"positive\" and labels_test[s] == \"negative\") for s,yp in enumerate(labels_test_pred)])\n",
    "true_negatives=sum([int(yp == \"negative\" and labels_test[s] == \"negative\") for s,yp in enumerate(labels_test_pred)])\n",
    "\n",
    "precision = true_positives/(true_positives + false_positives)\n",
    "recall = true_positives/(true_positives + false_negatives)\n",
    "print(f'precision: {precision}')\n",
    "print(f'recall: {recall}')"
   ]
  },
  {
   "cell_type": "code",
   "execution_count": 62,
   "metadata": {},
   "outputs": [
    {
     "name": "stdout",
     "output_type": "stream",
     "text": [
      "most impactful words for a positive review:\n",
      "['excellent', 'loves', 'love', 'amazing', 'perfect', 'pleased', 'best', 'great', 'easy', 'awesome', 'wonderful', 'favorite', 'perfectly', 'happy', 'satisfied', 'highly_recommend', 'price', 'delicious', 'job', 'highly']\n",
      "['smooth', 'would_recommend', 'grill', 'beautiful', 'even_better', 'comfortable', 'enjoyed', 'variety', 'fun', 'sturdy', '5_stars', 'complaint', 'well', 'complaints', '4_stars', 'well_worth', 'nice', 'exactly', 'really_like', 'worry']\n",
      "\n",
      "most impactful words for a negative review:\n",
      "['worst', 'disappointed', 'waste', 'return', 'returned', 'terrible', 'poor', 'boring', 'horrible', 'disappointing', 'returning', 'useless', '2_stars', 'disappointment', 'uncomfortable', 'broke', 'poorly', 'awful', 'mistake', 'money']\n",
      "['author', 'junk', 'refund', 'bad', 'barely', 'excited', 'ok', 'cannot', 'worthless', 'worse', 'dissapointed', 'guess', 'wasted', 'nothing', 'garbage', 'plastic', 'happened', 'hopes', 'mediocre', 'supposed']\n"
     ]
    }
   ],
   "source": [
    "# EXAMINING WEIGHTS\n",
    "print(\"most impactful words for a positive review:\")\n",
    "print([vocab_list[x] for x in np.argsort(weights)[::-1][:20]])\n",
    "print([vocab_list[x] for x in np.argsort(weights)[::-1][20:40]])\n",
    "\n",
    "print(\"\\nmost impactful words for a negative review:\")\n",
    "print([vocab_list[x] for x in np.argsort(weights)[:20]])\n",
    "print([vocab_list[x] for x in np.argsort(weights)[20:40]])"
   ]
  }
 ],
 "metadata": {
  "kernelspec": {
   "display_name": "Python 3",
   "language": "python",
   "name": "python3"
  },
  "language_info": {
   "codemirror_mode": {
    "name": "ipython",
    "version": 3
   },
   "file_extension": ".py",
   "mimetype": "text/x-python",
   "name": "python",
   "nbconvert_exporter": "python",
   "pygments_lexer": "ipython3",
   "version": "3.9.6"
  }
 },
 "nbformat": 4,
 "nbformat_minor": 2
}
